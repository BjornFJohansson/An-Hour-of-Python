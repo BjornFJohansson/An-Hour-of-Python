{
 "cells": [
  {
   "cell_type": "markdown",
   "metadata": {},
   "source": [
    "# BLAST analysis at Genbank\n",
    "\n",
    "I am interested in the [ACC1 gene](http://sgd-beta.stanford.edu/locus/S000005299/overview) of _S. cerevisiae_.\n",
    "\n",
    "I would like to have the protein sequences of the 100 best BLAST hits from Genbank using the ACC1p protein\n",
    "sequence as query.\n",
    "\n",
    "The accession number of the ACC1 protein sequence is [AAA20073](http://www.ncbi.nlm.nih.gov/protein/171504/).\n",
    "\n",
    "This CAN be done manually [here](https://blast.ncbi.nlm.nih.gov/Blast.cgi?PROGRAM=blastp&PAGE_TYPE=BlastSearch&LINK_LOC=blasthome&QUERY=AAA20073) like this:\n",
    "\n",
    "![blast of AAA20073](blast_AAA20073.png)\n",
    "\n",
    "When the blast search is finished, you will be taken to a results page that looks like this:\n",
    "\n",
    "![blast result](blast_AAA20073_results.png)\n",
    "\n",
    "If you scroll down the page, you can click on the links on the right side of the page for each result.\n",
    "These links will give you the Genbank file for each of the sequences that produced the blast hists with your sequence like this:\n",
    "\n",
    "![three_first_blast_results.png](three_first_blast_results.png)\n",
    "\n",
    "However, it is very laborious. You will easily introduce errors. What if you want to redo the analysis frequently to see if new relevant sequences have been found? What if your [boss](boss.jpg) tells you he needs the same results for another protein? or the thousand best blast hits?\n",
    "\n",
    "\n",
    "## Biopython\n",
    "\n",
    "from [Wikipedia](https://en.wikipedia.org/wiki/Biopython)\n",
    "\n",
    "\"The Biopython Project is an open-source collection of non-commercial Python tools for computational biology and bioinformatics, created by an international association of developers. \n",
    "\n",
    "It contains classes to represent biological sequences and sequence annotations, and it is able to read and write to a variety of file formats. \n",
    "\n",
    "It also allows for a **programmatic means of accessing online databases of biological information**, such as those at NCBI. Separate modules extend Biopython's capabilities to sequence alignment, protein structure, population genetics, phylogenetics, sequence motifs, and machine learning.\n",
    "\n",
    "Sounds good!\n",
    "\n",
    "Lets look in more detail. There is an online tutorial for Biopython and it contains information on what we want [here](http://biopython.org/DIST/docs/tutorial/Tutorial.html#htoc86).\n",
    "\n",
    "We can use the qblast() function provided by Biopython as in the tutorial.\n",
    "Qblast produces results in [XML](https://en.wikipedia.org/wiki/XML) format.\n",
    "\n",
    "This analysis takes some time, so we would like to save the results in a file just as they did in the tutorial.\n",
    "\n",
    "We call this file \"my_blast.xml\" in the code cell below:"
   ]
  },
  {
   "cell_type": "code",
   "execution_count": 1,
   "metadata": {},
   "outputs": [],
   "source": [
    "from Bio.Blast import NCBIWWW\n",
    "\n",
    "result_handle = NCBIWWW.qblast(\"blastp\", \n",
    "                               \"nr\", \n",
    "                               \"AAA20073\", \n",
    "                               hitlist_size=100,\n",
    "                               alignments = 1, \n",
    "                               expect=10.0)\n",
    "\n",
    "with open(\"my_blast.xml\", \"w\") as f:\n",
    "    f.write(result_handle.read())    \n",
    "    \n",
    "result_handle.close()"
   ]
  },
  {
   "cell_type": "markdown",
   "metadata": {},
   "source": [
    "The [my_blast.xml](my_blast.xml) is so not so easy to understand by looking at it.\n",
    "It does contain information on every High-scoring Segment Pair [HSP](https://en.wikipedia.org/wiki/BLAST#Algorithm) for each one of the one hundred best hits and the parameters that were used in the analysis.\n",
    "\n",
    "Biopython has a [parser](http://biopython.org/DIST/docs/tutorial/Tutorial.html#htoc91) that can be used to extract [ACCESSION](https://en.wikipedia.org/wiki/Accession_number_%28bioinformatics%29) numbers for all the results:"
   ]
  },
  {
   "cell_type": "code",
   "execution_count": 2,
   "metadata": {
    "collapsed": true
   },
   "outputs": [],
   "source": [
    "from Bio.Blast import NCBIXML\n",
    "\n",
    "result_handle = open(\"my_blast.xml\")\n",
    "\n",
    "blast_record = NCBIXML.read(result_handle)\n",
    "\n",
    "ids = []\n",
    "\n",
    "for h in blast_record.alignments:\n",
    "    ids.append(h.accession)\n",
    "\n",
    "result_handle.close()"
   ]
  },
  {
   "cell_type": "markdown",
   "metadata": {},
   "source": [
    "we have one hundred ACCESSION numbers in the ids variable. "
   ]
  },
  {
   "cell_type": "code",
   "execution_count": 3,
   "metadata": {},
   "outputs": [
    {
     "data": {
      "text/plain": [
       "100"
      ]
     },
     "execution_count": 3,
     "metadata": {},
     "output_type": "execute_result"
    }
   ],
   "source": [
    "len(ids)"
   ]
  },
  {
   "cell_type": "markdown",
   "metadata": {},
   "source": [
    "The first five numbers:"
   ]
  },
  {
   "cell_type": "code",
   "execution_count": 4,
   "metadata": {},
   "outputs": [
    {
     "data": {
      "text/plain": [
       "['AAA20073', 'NP_014413', 'AJT05884', 'EDN62822', 'AJT27522']"
      ]
     },
     "execution_count": 4,
     "metadata": {},
     "output_type": "execute_result"
    }
   ],
   "source": [
    "ids[:5]"
   ]
  },
  {
   "cell_type": "markdown",
   "metadata": {},
   "source": [
    "Now we would like to get the sequences for all of the ACCESSION numbers.\n",
    "This is trickier than we might expect, due to the design of the database.\n",
    "\n",
    "We have to make a string containing all of the numbers divided by a blank:"
   ]
  },
  {
   "cell_type": "code",
   "execution_count": 5,
   "metadata": {
    "collapsed": true
   },
   "outputs": [],
   "source": [
    "accs=ids\n",
    "\n",
    "query  = \" \".join(accs)"
   ]
  },
  {
   "cell_type": "markdown",
   "metadata": {},
   "source": [
    "We have to set a variable to say how many results we want. \n",
    "We call this variable retmax."
   ]
  },
  {
   "cell_type": "code",
   "execution_count": 6,
   "metadata": {
    "collapsed": true
   },
   "outputs": [],
   "source": [
    "retmax=100"
   ]
  },
  {
   "cell_type": "markdown",
   "metadata": {},
   "source": [
    "We will use functionality of the Entrez module.\n",
    "We have to tell Genbank who we are when we use their service.\n",
    "We can do this by setting the Entrez.email variable."
   ]
  },
  {
   "cell_type": "code",
   "execution_count": 7,
   "metadata": {
    "collapsed": true
   },
   "outputs": [],
   "source": [
    "from Bio import Entrez\n",
    "\n",
    "Entrez.email = \"bjornjobb@gmail.com\""
   ]
  },
  {
   "cell_type": "markdown",
   "metadata": {},
   "source": [
    "First we need the gi number associated with each accession number.\n",
    "\n",
    "We will use the biopython wrapper for the Entrez E-utilities server programs.\n",
    "Here is a tutorial from [NCBI](http://www.ncbi.nlm.nih.gov/books/NBK25501/).\n",
    "\n",
    "[Entrez.esearch](http://biopython.org/DIST/docs/tutorial/Tutorial.html#htoc112) can be used to search the E-utilities programs."
   ]
  },
  {
   "cell_type": "code",
   "execution_count": 8,
   "metadata": {
    "collapsed": true
   },
   "outputs": [],
   "source": [
    "handle = Entrez.esearch( db=\"protein\", term=query, retmax=retmax )\n",
    "\n",
    "giList = Entrez.read(handle)['IdList']"
   ]
  },
  {
   "cell_type": "code",
   "execution_count": 9,
   "metadata": {},
   "outputs": [
    {
     "data": {
      "text/plain": [
       "['171504', '6324343', '767226550', '151944544', '767249005']"
      ]
     },
     "execution_count": 9,
     "metadata": {},
     "output_type": "execute_result"
    }
   ],
   "source": [
    "giList[:5]"
   ]
  },
  {
   "cell_type": "markdown",
   "metadata": {},
   "source": [
    "The code below posts a search on Entrez that we can fetch later"
   ]
  },
  {
   "cell_type": "code",
   "execution_count": 10,
   "metadata": {
    "collapsed": true
   },
   "outputs": [],
   "source": [
    "handle = Entrez.epost(db=\"protein\", id=\",\".join(giList), rettype=\"fasta\", retmode=\"text\")\n",
    "\n",
    "result = Entrez.read(handle)\n",
    "\n",
    "search_results = result\n",
    "\n",
    "webenv, query_key  = search_results[\"WebEnv\"], search_results[\"QueryKey\"]"
   ]
  },
  {
   "cell_type": "markdown",
   "metadata": {},
   "source": [
    "Below, we download the results in batches of 100 sequences (1 batch in this case)."
   ]
  },
  {
   "cell_type": "code",
   "execution_count": 11,
   "metadata": {},
   "outputs": [],
   "source": [
    "db=\"protein\"\n",
    "\n",
    "batchSize = 100\n",
    "\n",
    "from Bio import SeqIO\n",
    "\n",
    "for start in range( 0, len(giList), batchSize ):\n",
    "\n",
    "    handle = Entrez.efetch(db=db, \n",
    "                           rettype=\"gb\", \n",
    "                           retstart=start, \n",
    "                           retmax=batchSize, \n",
    "                           webenv=webenv, \n",
    "                           query_key=query_key)\n",
    "\n",
    "    with open(\"batch{}.gb\".format(start+1), \"w\") as f:\n",
    "        f.write(handle.read())"
   ]
  },
  {
   "cell_type": "markdown",
   "metadata": {},
   "source": [
    "File with all the results:\n",
    "\n",
    "[Genbank files](batch1.gb)"
   ]
  }
 ],
 "metadata": {
  "kernelspec": {
   "display_name": "Python 3",
   "language": "python",
   "name": "python3"
  },
  "language_info": {
   "codemirror_mode": {
    "name": "ipython",
    "version": 3
   },
   "file_extension": ".py",
   "mimetype": "text/x-python",
   "name": "python",
   "nbconvert_exporter": "python",
   "pygments_lexer": "ipython3",
   "version": "3.5.2"
  }
 },
 "nbformat": 4,
 "nbformat_minor": 1
}
